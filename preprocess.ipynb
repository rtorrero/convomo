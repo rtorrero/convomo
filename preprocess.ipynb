{
 "cells": [
  {
   "cell_type": "markdown",
   "metadata": {},
   "source": [
    "# Preprocessing of face images\n",
    "In order to increase the performance of the model, this notebook contains the preprocessing of the images.\n",
    "The preprocessing consists of the following steps:"
   ]
  },
  {
   "cell_type": "markdown",
   "metadata": {},
   "source": [
    "## Install the necessary packages"
   ]
  },
  {
   "cell_type": "code",
   "execution_count": null,
   "metadata": {},
   "outputs": [],
   "source": [
    "!pip install kaggle opencv-python tqdm"
   ]
  },
  {
   "cell_type": "markdown",
   "metadata": {},
   "source": [
    "## Use kaggle to download the dataset and unzip it"
   ]
  },
  {
   "cell_type": "code",
   "execution_count": null,
   "metadata": {},
   "outputs": [],
   "source": [
    "!kaggle datasets download -d yousefmohamed20/sentiment-images-classifier\n",
    "!unzip sentiment-images-classifier.zip -d emotions_dataset"
   ]
  },
  {
   "cell_type": "markdown",
   "metadata": {},
   "source": [
    "## Face Detection and Cropping Preprocessing\n",
    "\n",
    "This preprocessing step performs face detection and cropping on the emotions dataset to focus on facial expressions. The process:\n",
    "\n",
    "1. Uses OpenCV's Haar Cascade classifier for face detection\n",
    "2. Takes images from the original '6 Emotions for image classification' dataset\n",
    "3. For each emotion class:\n",
    "   - Detects faces in every image\n",
    "   - Crops the detected faces\n",
    "   - Saves the cropped faces in a new directory structure\n",
    "   - Maintains the emotion labels by keeping the class folder organization\n",
    "\n",
    "The cropped dataset will be stored in 'emotions_dataset/emotions_dataset_cropped_faces', preserving the original class structure but containing only the detected facial regions. This helps the model focus on relevant facial features during training.\n",
    "\n",
    "Required libraries:\n",
    "- OpenCV (cv2) for image processing and face detection\n",
    "- tqdm for progress tracking\n",
    "- os for file system operations"
   ]
  },
  {
   "cell_type": "code",
   "execution_count": null,
   "metadata": {},
   "outputs": [],
   "source": [
    "import cv2\n",
    "import os\n",
    "from tqdm import tqdm \n",
    "\n",
    "haar_cascade_path = cv2.data.haarcascades + 'haarcascade_frontalface_default.xml'\n",
    "face_cascade = cv2.CascadeClassifier(haar_cascade_path)\n",
    "\n",
    "# Input and output directories\n",
    "input_dir = 'emotions_dataset/6 Emotions for image classification'  # Original dataset\n",
    "output_dir = 'emotions_dataset/emotions_dataset_cropped_faces'  # Directory to save cropped faces\n",
    "\n",
    "# Create output directory if it doesn't exist\n",
    "os.makedirs(output_dir, exist_ok=True)\n",
    "\n",
    "# Loop through the dataset\n",
    "for class_name in os.listdir(input_dir):\n",
    "    class_path = os.path.join(input_dir, class_name)\n",
    "    if not os.path.isdir(class_path):\n",
    "        continue\n",
    "\n",
    "    # Create class folder in the output directory\n",
    "    output_class_path = os.path.join(output_dir, class_name)\n",
    "    os.makedirs(output_class_path, exist_ok=True)\n",
    "\n",
    "    # Loop through images in the class folder\n",
    "    for img_name in tqdm(os.listdir(class_path), desc=f\"Processing {class_name}\"):\n",
    "        img_path = os.path.join(class_path, img_name)\n",
    "\n",
    "        # Read the image\n",
    "        img = cv2.imread(img_path)\n",
    "        if img is None:\n",
    "            continue  # Skip if image is invalid\n",
    "\n",
    "        # Convert to grayscale for face detection\n",
    "        gray = cv2.cvtColor(img, cv2.COLOR_BGR2GRAY)\n",
    "\n",
    "        # Detect faces\n",
    "        faces = face_cascade.detectMultiScale(gray, scaleFactor=1.1, minNeighbors=5, minSize=(30, 30))\n",
    "\n",
    "        # Process each detected face\n",
    "        for i, (x, y, w, h) in enumerate(faces):\n",
    "            # Crop the face\n",
    "            face = img[y:y+h, x:x+w]\n",
    "\n",
    "            # Save the face\n",
    "            output_img_name = f\"{os.path.splitext(img_name)[0]}_face{i}.jpg\"\n",
    "            output_img_path = os.path.join(output_class_path, output_img_name)\n",
    "            cv2.imwrite(output_img_path, face)"
   ]
  }
 ],
 "metadata": {
  "kernelspec": {
   "display_name": ".venv",
   "language": "python",
   "name": "python3"
  },
  "language_info": {
   "codemirror_mode": {
    "name": "ipython",
    "version": 3
   },
   "file_extension": ".py",
   "mimetype": "text/x-python",
   "name": "python",
   "nbconvert_exporter": "python",
   "pygments_lexer": "ipython3",
   "version": "3.12.7"
  }
 },
 "nbformat": 4,
 "nbformat_minor": 2
}
